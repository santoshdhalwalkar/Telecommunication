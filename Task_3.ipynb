{
  "nbformat": 4,
  "nbformat_minor": 0,
  "metadata": {
    "colab": {
      "provenance": [],
      "authorship_tag": "ABX9TyM0ZPemGyvOTgakBH96Lfwl",
      "include_colab_link": true
    },
    "kernelspec": {
      "name": "python3",
      "display_name": "Python 3"
    },
    "language_info": {
      "name": "python"
    }
  },
  "cells": [
    {
      "cell_type": "markdown",
      "metadata": {
        "id": "view-in-github",
        "colab_type": "text"
      },
      "source": [
        "<a href=\"https://colab.research.google.com/github/santoshdhalwalkar/Telecommunication/blob/main/Task_3.ipynb\" target=\"_parent\"><img src=\"https://colab.research.google.com/assets/colab-badge.svg\" alt=\"Open In Colab\"/></a>"
      ]
    },
    {
      "cell_type": "markdown",
      "source": [
        "###The health of a connection on a local network or the larger Internet, and is commonly utilized by network administrators to diagnose the speed and reliability of network connections with help of TCP and RTT"
      ],
      "metadata": {
        "id": "NJPVyUP7byUq"
      }
    },
    {
      "cell_type": "code",
      "execution_count": 22,
      "metadata": {
        "id": "Iz_vgR9gbWbf"
      },
      "outputs": [],
      "source": [
        "#import drive from google\n",
        "from google.colab import drive"
      ]
    },
    {
      "cell_type": "code",
      "source": [
        "# mount the drive\n",
        "drive.mount(\"/content/drive\")"
      ],
      "metadata": {
        "colab": {
          "base_uri": "https://localhost:8080/"
        },
        "id": "nmFtGBWRb_qY",
        "outputId": "b4a3553d-ed1e-4214-f2b4-4d8dbaef0736"
      },
      "execution_count": 23,
      "outputs": [
        {
          "output_type": "stream",
          "name": "stdout",
          "text": [
            "Drive already mounted at /content/drive; to attempt to forcibly remount, call drive.mount(\"/content/drive\", force_remount=True).\n"
          ]
        }
      ]
    },
    {
      "cell_type": "code",
      "source": [
        "#import the liabaries\n",
        "import seaborn as sns\n",
        "import matplotlib.pyplot as plt\n",
        "import pandas as pd\n",
        "import numpy as np\n",
        "import sklearn\n",
        "import warnings\n",
        "warnings.filterwarnings(\"ignore\")\n",
        "%matplotlib inline"
      ],
      "metadata": {
        "id": "XlyDZzp_cB0b"
      },
      "execution_count": 24,
      "outputs": []
    },
    {
      "cell_type": "code",
      "source": [
        " #read the data from google drive\n",
        "df =pd.read_csv(\"/content/drive/MyDrive/cleanedtelecomunication_df.csv\")\n",
        "df.head()"
      ],
      "metadata": {
        "colab": {
          "base_uri": "https://localhost:8080/",
          "height": 255
        },
        "id": "AGTQzmWxcDTy",
        "outputId": "f3028cf0-6aee-439e-b743-2e7867a5d955"
      },
      "execution_count": 25,
      "outputs": [
        {
          "output_type": "execute_result",
          "data": {
            "text/plain": [
              "       BearerId  MSISDNNumber  Calculated_Duration_Seconds  AvgRTT_DL  \\\n",
              "0  1.311450e+19  3.368542e+10                 2.434800e+08       45.0   \n",
              "1  1.311450e+19  3.366132e+10                 2.365800e+08       46.0   \n",
              "2  1.311450e+19  3.361513e+10                 2.317800e+08       45.0   \n",
              "3  1.311450e+19  3.366495e+10                 2.308200e+08       39.0   \n",
              "4  7.349880e+18  3.366403e+10                 2.389200e+08       38.0   \n",
              "\n",
              "   AvgRTT_UL  AvgBearerTP_DL  AvgBearerTP_UL  TCPDLRetransVol_Bytes  \\\n",
              "0        5.0            28.0            41.0               568730.0   \n",
              "1        7.0            46.0            46.0               568730.0   \n",
              "2        5.0            23.0            51.0               568730.0   \n",
              "3        2.0            22.0            46.0               568730.0   \n",
              "4        1.0            49.0            47.0               568730.0   \n",
              "\n",
              "   TCPULRetransVol_Bytes  GamingDL_Bytes  ...   Total_Data     Total_DL  \\\n",
              "0                20949.5     519620584.0  ...  599743023.0  556406594.0   \n",
              "1                20949.5     715350506.0  ...  798245704.0  757526492.0   \n",
              "2                20949.5     124180544.0  ...  192095344.0  139043208.0   \n",
              "3                20949.5     293492651.0  ...  359872820.0  329159454.0   \n",
              "4                20949.5     516508263.0  ...  604428354.0  546747900.0   \n",
              "\n",
              "     Total_UL  NetflixDL_Bytes  OtherUL_Bytes  OtherDL_Bytes  GamingUL_Bytes  \\\n",
              "0  43336429.0        7682779.0      3820483.0    318297673.0       2710989.0   \n",
              "1  40719212.0       11758420.0      1716480.0    290582586.0      10250922.0   \n",
              "2  53052136.0         753238.0     14932623.0    350039548.0      14967821.0   \n",
              "3  30713366.0       17917894.0     11684759.0    495376623.0       1362536.0   \n",
              "4  57680454.0        1114842.0      9207067.0    624397048.0       8432981.0   \n",
              "\n",
              "   Total_Data.1   Total_DL.1  Total_UL.1  \n",
              "0   599743023.0  556406594.0  43336429.0  \n",
              "1   798245704.0  757526492.0  40719212.0  \n",
              "2   192095344.0  139043208.0  53052136.0  \n",
              "3   359872820.0  329159454.0  30713366.0  \n",
              "4   604428354.0  546747900.0  57680454.0  \n",
              "\n",
              "[5 rows x 23 columns]"
            ],
            "text/html": [
              "\n",
              "  <div id=\"df-559dcc6c-d6d5-42a6-a0f1-bae95ad5041c\" class=\"colab-df-container\">\n",
              "    <div>\n",
              "<style scoped>\n",
              "    .dataframe tbody tr th:only-of-type {\n",
              "        vertical-align: middle;\n",
              "    }\n",
              "\n",
              "    .dataframe tbody tr th {\n",
              "        vertical-align: top;\n",
              "    }\n",
              "\n",
              "    .dataframe thead th {\n",
              "        text-align: right;\n",
              "    }\n",
              "</style>\n",
              "<table border=\"1\" class=\"dataframe\">\n",
              "  <thead>\n",
              "    <tr style=\"text-align: right;\">\n",
              "      <th></th>\n",
              "      <th>BearerId</th>\n",
              "      <th>MSISDNNumber</th>\n",
              "      <th>Calculated_Duration_Seconds</th>\n",
              "      <th>AvgRTT_DL</th>\n",
              "      <th>AvgRTT_UL</th>\n",
              "      <th>AvgBearerTP_DL</th>\n",
              "      <th>AvgBearerTP_UL</th>\n",
              "      <th>TCPDLRetransVol_Bytes</th>\n",
              "      <th>TCPULRetransVol_Bytes</th>\n",
              "      <th>GamingDL_Bytes</th>\n",
              "      <th>...</th>\n",
              "      <th>Total_Data</th>\n",
              "      <th>Total_DL</th>\n",
              "      <th>Total_UL</th>\n",
              "      <th>NetflixDL_Bytes</th>\n",
              "      <th>OtherUL_Bytes</th>\n",
              "      <th>OtherDL_Bytes</th>\n",
              "      <th>GamingUL_Bytes</th>\n",
              "      <th>Total_Data.1</th>\n",
              "      <th>Total_DL.1</th>\n",
              "      <th>Total_UL.1</th>\n",
              "    </tr>\n",
              "  </thead>\n",
              "  <tbody>\n",
              "    <tr>\n",
              "      <th>0</th>\n",
              "      <td>1.311450e+19</td>\n",
              "      <td>3.368542e+10</td>\n",
              "      <td>2.434800e+08</td>\n",
              "      <td>45.0</td>\n",
              "      <td>5.0</td>\n",
              "      <td>28.0</td>\n",
              "      <td>41.0</td>\n",
              "      <td>568730.0</td>\n",
              "      <td>20949.5</td>\n",
              "      <td>519620584.0</td>\n",
              "      <td>...</td>\n",
              "      <td>599743023.0</td>\n",
              "      <td>556406594.0</td>\n",
              "      <td>43336429.0</td>\n",
              "      <td>7682779.0</td>\n",
              "      <td>3820483.0</td>\n",
              "      <td>318297673.0</td>\n",
              "      <td>2710989.0</td>\n",
              "      <td>599743023.0</td>\n",
              "      <td>556406594.0</td>\n",
              "      <td>43336429.0</td>\n",
              "    </tr>\n",
              "    <tr>\n",
              "      <th>1</th>\n",
              "      <td>1.311450e+19</td>\n",
              "      <td>3.366132e+10</td>\n",
              "      <td>2.365800e+08</td>\n",
              "      <td>46.0</td>\n",
              "      <td>7.0</td>\n",
              "      <td>46.0</td>\n",
              "      <td>46.0</td>\n",
              "      <td>568730.0</td>\n",
              "      <td>20949.5</td>\n",
              "      <td>715350506.0</td>\n",
              "      <td>...</td>\n",
              "      <td>798245704.0</td>\n",
              "      <td>757526492.0</td>\n",
              "      <td>40719212.0</td>\n",
              "      <td>11758420.0</td>\n",
              "      <td>1716480.0</td>\n",
              "      <td>290582586.0</td>\n",
              "      <td>10250922.0</td>\n",
              "      <td>798245704.0</td>\n",
              "      <td>757526492.0</td>\n",
              "      <td>40719212.0</td>\n",
              "    </tr>\n",
              "    <tr>\n",
              "      <th>2</th>\n",
              "      <td>1.311450e+19</td>\n",
              "      <td>3.361513e+10</td>\n",
              "      <td>2.317800e+08</td>\n",
              "      <td>45.0</td>\n",
              "      <td>5.0</td>\n",
              "      <td>23.0</td>\n",
              "      <td>51.0</td>\n",
              "      <td>568730.0</td>\n",
              "      <td>20949.5</td>\n",
              "      <td>124180544.0</td>\n",
              "      <td>...</td>\n",
              "      <td>192095344.0</td>\n",
              "      <td>139043208.0</td>\n",
              "      <td>53052136.0</td>\n",
              "      <td>753238.0</td>\n",
              "      <td>14932623.0</td>\n",
              "      <td>350039548.0</td>\n",
              "      <td>14967821.0</td>\n",
              "      <td>192095344.0</td>\n",
              "      <td>139043208.0</td>\n",
              "      <td>53052136.0</td>\n",
              "    </tr>\n",
              "    <tr>\n",
              "      <th>3</th>\n",
              "      <td>1.311450e+19</td>\n",
              "      <td>3.366495e+10</td>\n",
              "      <td>2.308200e+08</td>\n",
              "      <td>39.0</td>\n",
              "      <td>2.0</td>\n",
              "      <td>22.0</td>\n",
              "      <td>46.0</td>\n",
              "      <td>568730.0</td>\n",
              "      <td>20949.5</td>\n",
              "      <td>293492651.0</td>\n",
              "      <td>...</td>\n",
              "      <td>359872820.0</td>\n",
              "      <td>329159454.0</td>\n",
              "      <td>30713366.0</td>\n",
              "      <td>17917894.0</td>\n",
              "      <td>11684759.0</td>\n",
              "      <td>495376623.0</td>\n",
              "      <td>1362536.0</td>\n",
              "      <td>359872820.0</td>\n",
              "      <td>329159454.0</td>\n",
              "      <td>30713366.0</td>\n",
              "    </tr>\n",
              "    <tr>\n",
              "      <th>4</th>\n",
              "      <td>7.349880e+18</td>\n",
              "      <td>3.366403e+10</td>\n",
              "      <td>2.389200e+08</td>\n",
              "      <td>38.0</td>\n",
              "      <td>1.0</td>\n",
              "      <td>49.0</td>\n",
              "      <td>47.0</td>\n",
              "      <td>568730.0</td>\n",
              "      <td>20949.5</td>\n",
              "      <td>516508263.0</td>\n",
              "      <td>...</td>\n",
              "      <td>604428354.0</td>\n",
              "      <td>546747900.0</td>\n",
              "      <td>57680454.0</td>\n",
              "      <td>1114842.0</td>\n",
              "      <td>9207067.0</td>\n",
              "      <td>624397048.0</td>\n",
              "      <td>8432981.0</td>\n",
              "      <td>604428354.0</td>\n",
              "      <td>546747900.0</td>\n",
              "      <td>57680454.0</td>\n",
              "    </tr>\n",
              "  </tbody>\n",
              "</table>\n",
              "<p>5 rows × 23 columns</p>\n",
              "</div>\n",
              "    <div class=\"colab-df-buttons\">\n",
              "\n",
              "  <div class=\"colab-df-container\">\n",
              "    <button class=\"colab-df-convert\" onclick=\"convertToInteractive('df-559dcc6c-d6d5-42a6-a0f1-bae95ad5041c')\"\n",
              "            title=\"Convert this dataframe to an interactive table.\"\n",
              "            style=\"display:none;\">\n",
              "\n",
              "  <svg xmlns=\"http://www.w3.org/2000/svg\" height=\"24px\" viewBox=\"0 -960 960 960\">\n",
              "    <path d=\"M120-120v-720h720v720H120Zm60-500h600v-160H180v160Zm220 220h160v-160H400v160Zm0 220h160v-160H400v160ZM180-400h160v-160H180v160Zm440 0h160v-160H620v160ZM180-180h160v-160H180v160Zm440 0h160v-160H620v160Z\"/>\n",
              "  </svg>\n",
              "    </button>\n",
              "\n",
              "  <style>\n",
              "    .colab-df-container {\n",
              "      display:flex;\n",
              "      gap: 12px;\n",
              "    }\n",
              "\n",
              "    .colab-df-convert {\n",
              "      background-color: #E8F0FE;\n",
              "      border: none;\n",
              "      border-radius: 50%;\n",
              "      cursor: pointer;\n",
              "      display: none;\n",
              "      fill: #1967D2;\n",
              "      height: 32px;\n",
              "      padding: 0 0 0 0;\n",
              "      width: 32px;\n",
              "    }\n",
              "\n",
              "    .colab-df-convert:hover {\n",
              "      background-color: #E2EBFA;\n",
              "      box-shadow: 0px 1px 2px rgba(60, 64, 67, 0.3), 0px 1px 3px 1px rgba(60, 64, 67, 0.15);\n",
              "      fill: #174EA6;\n",
              "    }\n",
              "\n",
              "    .colab-df-buttons div {\n",
              "      margin-bottom: 4px;\n",
              "    }\n",
              "\n",
              "    [theme=dark] .colab-df-convert {\n",
              "      background-color: #3B4455;\n",
              "      fill: #D2E3FC;\n",
              "    }\n",
              "\n",
              "    [theme=dark] .colab-df-convert:hover {\n",
              "      background-color: #434B5C;\n",
              "      box-shadow: 0px 1px 3px 1px rgba(0, 0, 0, 0.15);\n",
              "      filter: drop-shadow(0px 1px 2px rgba(0, 0, 0, 0.3));\n",
              "      fill: #FFFFFF;\n",
              "    }\n",
              "  </style>\n",
              "\n",
              "    <script>\n",
              "      const buttonEl =\n",
              "        document.querySelector('#df-559dcc6c-d6d5-42a6-a0f1-bae95ad5041c button.colab-df-convert');\n",
              "      buttonEl.style.display =\n",
              "        google.colab.kernel.accessAllowed ? 'block' : 'none';\n",
              "\n",
              "      async function convertToInteractive(key) {\n",
              "        const element = document.querySelector('#df-559dcc6c-d6d5-42a6-a0f1-bae95ad5041c');\n",
              "        const dataTable =\n",
              "          await google.colab.kernel.invokeFunction('convertToInteractive',\n",
              "                                                    [key], {});\n",
              "        if (!dataTable) return;\n",
              "\n",
              "        const docLinkHtml = 'Like what you see? Visit the ' +\n",
              "          '<a target=\"_blank\" href=https://colab.research.google.com/notebooks/data_table.ipynb>data table notebook</a>'\n",
              "          + ' to learn more about interactive tables.';\n",
              "        element.innerHTML = '';\n",
              "        dataTable['output_type'] = 'display_data';\n",
              "        await google.colab.output.renderOutput(dataTable, element);\n",
              "        const docLink = document.createElement('div');\n",
              "        docLink.innerHTML = docLinkHtml;\n",
              "        element.appendChild(docLink);\n",
              "      }\n",
              "    </script>\n",
              "  </div>\n",
              "\n",
              "\n",
              "<div id=\"df-87c59427-c77d-4207-8b16-f01bcd053b29\">\n",
              "  <button class=\"colab-df-quickchart\" onclick=\"quickchart('df-87c59427-c77d-4207-8b16-f01bcd053b29')\"\n",
              "            title=\"Suggest charts\"\n",
              "            style=\"display:none;\">\n",
              "\n",
              "<svg xmlns=\"http://www.w3.org/2000/svg\" height=\"24px\"viewBox=\"0 0 24 24\"\n",
              "     width=\"24px\">\n",
              "    <g>\n",
              "        <path d=\"M19 3H5c-1.1 0-2 .9-2 2v14c0 1.1.9 2 2 2h14c1.1 0 2-.9 2-2V5c0-1.1-.9-2-2-2zM9 17H7v-7h2v7zm4 0h-2V7h2v10zm4 0h-2v-4h2v4z\"/>\n",
              "    </g>\n",
              "</svg>\n",
              "  </button>\n",
              "\n",
              "<style>\n",
              "  .colab-df-quickchart {\n",
              "      --bg-color: #E8F0FE;\n",
              "      --fill-color: #1967D2;\n",
              "      --hover-bg-color: #E2EBFA;\n",
              "      --hover-fill-color: #174EA6;\n",
              "      --disabled-fill-color: #AAA;\n",
              "      --disabled-bg-color: #DDD;\n",
              "  }\n",
              "\n",
              "  [theme=dark] .colab-df-quickchart {\n",
              "      --bg-color: #3B4455;\n",
              "      --fill-color: #D2E3FC;\n",
              "      --hover-bg-color: #434B5C;\n",
              "      --hover-fill-color: #FFFFFF;\n",
              "      --disabled-bg-color: #3B4455;\n",
              "      --disabled-fill-color: #666;\n",
              "  }\n",
              "\n",
              "  .colab-df-quickchart {\n",
              "    background-color: var(--bg-color);\n",
              "    border: none;\n",
              "    border-radius: 50%;\n",
              "    cursor: pointer;\n",
              "    display: none;\n",
              "    fill: var(--fill-color);\n",
              "    height: 32px;\n",
              "    padding: 0;\n",
              "    width: 32px;\n",
              "  }\n",
              "\n",
              "  .colab-df-quickchart:hover {\n",
              "    background-color: var(--hover-bg-color);\n",
              "    box-shadow: 0 1px 2px rgba(60, 64, 67, 0.3), 0 1px 3px 1px rgba(60, 64, 67, 0.15);\n",
              "    fill: var(--button-hover-fill-color);\n",
              "  }\n",
              "\n",
              "  .colab-df-quickchart-complete:disabled,\n",
              "  .colab-df-quickchart-complete:disabled:hover {\n",
              "    background-color: var(--disabled-bg-color);\n",
              "    fill: var(--disabled-fill-color);\n",
              "    box-shadow: none;\n",
              "  }\n",
              "\n",
              "  .colab-df-spinner {\n",
              "    border: 2px solid var(--fill-color);\n",
              "    border-color: transparent;\n",
              "    border-bottom-color: var(--fill-color);\n",
              "    animation:\n",
              "      spin 1s steps(1) infinite;\n",
              "  }\n",
              "\n",
              "  @keyframes spin {\n",
              "    0% {\n",
              "      border-color: transparent;\n",
              "      border-bottom-color: var(--fill-color);\n",
              "      border-left-color: var(--fill-color);\n",
              "    }\n",
              "    20% {\n",
              "      border-color: transparent;\n",
              "      border-left-color: var(--fill-color);\n",
              "      border-top-color: var(--fill-color);\n",
              "    }\n",
              "    30% {\n",
              "      border-color: transparent;\n",
              "      border-left-color: var(--fill-color);\n",
              "      border-top-color: var(--fill-color);\n",
              "      border-right-color: var(--fill-color);\n",
              "    }\n",
              "    40% {\n",
              "      border-color: transparent;\n",
              "      border-right-color: var(--fill-color);\n",
              "      border-top-color: var(--fill-color);\n",
              "    }\n",
              "    60% {\n",
              "      border-color: transparent;\n",
              "      border-right-color: var(--fill-color);\n",
              "    }\n",
              "    80% {\n",
              "      border-color: transparent;\n",
              "      border-right-color: var(--fill-color);\n",
              "      border-bottom-color: var(--fill-color);\n",
              "    }\n",
              "    90% {\n",
              "      border-color: transparent;\n",
              "      border-bottom-color: var(--fill-color);\n",
              "    }\n",
              "  }\n",
              "</style>\n",
              "\n",
              "  <script>\n",
              "    async function quickchart(key) {\n",
              "      const quickchartButtonEl =\n",
              "        document.querySelector('#' + key + ' button');\n",
              "      quickchartButtonEl.disabled = true;  // To prevent multiple clicks.\n",
              "      quickchartButtonEl.classList.add('colab-df-spinner');\n",
              "      try {\n",
              "        const charts = await google.colab.kernel.invokeFunction(\n",
              "            'suggestCharts', [key], {});\n",
              "      } catch (error) {\n",
              "        console.error('Error during call to suggestCharts:', error);\n",
              "      }\n",
              "      quickchartButtonEl.classList.remove('colab-df-spinner');\n",
              "      quickchartButtonEl.classList.add('colab-df-quickchart-complete');\n",
              "    }\n",
              "    (() => {\n",
              "      let quickchartButtonEl =\n",
              "        document.querySelector('#df-87c59427-c77d-4207-8b16-f01bcd053b29 button');\n",
              "      quickchartButtonEl.style.display =\n",
              "        google.colab.kernel.accessAllowed ? 'block' : 'none';\n",
              "    })();\n",
              "  </script>\n",
              "</div>\n",
              "\n",
              "    </div>\n",
              "  </div>\n"
            ],
            "application/vnd.google.colaboratory.intrinsic+json": {
              "type": "dataframe",
              "variable_name": "df"
            }
          },
          "metadata": {},
          "execution_count": 25
        }
      ]
    },
    {
      "cell_type": "code",
      "source": [
        "df.shape"
      ],
      "metadata": {
        "colab": {
          "base_uri": "https://localhost:8080/"
        },
        "id": "nwa5q1AdmqFp",
        "outputId": "f5a840fb-355f-42fb-b783-3765fd2b22cf"
      },
      "execution_count": 26,
      "outputs": [
        {
          "output_type": "execute_result",
          "data": {
            "text/plain": [
              "(65571, 23)"
            ]
          },
          "metadata": {},
          "execution_count": 26
        }
      ]
    },
    {
      "cell_type": "markdown",
      "source": [
        "###Create the Box Plot to find the outliers"
      ],
      "metadata": {
        "id": "aFU-6eNKlYP2"
      }
    },
    {
      "cell_type": "code",
      "source": [
        "columns = ['AvgRTT_DL', 'AvgRTT_UL', 'AvgBearerTP_DL', 'AvgBearerTP_UL', 'TCPDLRetransVol_Bytes', 'TCPULRetransVol_Bytes']\n",
        "df_selected = df[columns]"
      ],
      "metadata": {
        "id": "QZehbh9CdU5I"
      },
      "execution_count": 27,
      "outputs": []
    },
    {
      "cell_type": "code",
      "source": [
        "plt.figure(figsize=(10, 6))\n",
        "sns.boxplot(data=df_selected)\n",
        "plt.xticks(rotation=90)  # Rotate the x labels for better readability\n",
        "plt.title('Box Plot of Selected Columns')\n",
        "plt.show()"
      ],
      "metadata": {
        "colab": {
          "base_uri": "https://localhost:8080/",
          "height": 695
        },
        "id": "XnQ5GFw3lexF",
        "outputId": "6bc15b71-64ee-4d53-f497-8ef96e984bf1"
      },
      "execution_count": 28,
      "outputs": [
        {
          "output_type": "display_data",
          "data": {
            "text/plain": [
              "<Figure size 1000x600 with 1 Axes>"
            ],
            "image/png": "[encoded data removed]"
          },
          "metadata": {}
        }
      ]
    },
    {
      "cell_type": "code",
      "source": [
        "# Function to remove outliers\n",
        "def remove_outliers(df, columns):\n",
        "    for col in columns:\n",
        "        Q1 = df[col].quantile(0.25)\n",
        "        Q3 = df[col].quantile(0.75)\n",
        "        IQR = Q3 - Q1\n",
        "        lower_bound = Q1 - 1.5 * IQR\n",
        "        upper_bound = Q3 + 1.5 * IQR\n",
        "        df = df[(df[col] >= lower_bound) & (df[col] <= upper_bound)]\n",
        "    return df\n",
        "\n",
        "\n",
        "# Remove outliers\n",
        "df = remove_outliers(df, df_selected)\n",
        "\n",
        "df.head()\n",
        "df.shape"
      ],
      "metadata": {
        "colab": {
          "base_uri": "https://localhost:8080/"
        },
        "id": "wMl1Ql7lmY3G",
        "outputId": "f2208acd-32bd-4285-85f5-d0101bd67d91"
      },
      "execution_count": 31,
      "outputs": [
        {
          "output_type": "execute_result",
          "data": {
            "text/plain": [
              "(57974, 23)"
            ]
          },
          "metadata": {},
          "execution_count": 31
        }
      ]
    },
    {
      "cell_type": "code",
      "source": [
        "df.info()"
      ],
      "metadata": {
        "colab": {
          "base_uri": "https://localhost:8080/"
        },
        "id": "u473CDDdnJKF",
        "outputId": "e2887612-da09-4bd1-a6d7-12dd7707265f"
      },
      "execution_count": 32,
      "outputs": [
        {
          "output_type": "stream",
          "name": "stdout",
          "text": [
            "<class 'pandas.core.frame.DataFrame'>\n",
            "Index: 57974 entries, 0 to 65570\n",
            "Data columns (total 23 columns):\n",
            " #   Column                       Non-Null Count  Dtype  \n",
            "---  ------                       --------------  -----  \n",
            " 0   BearerId                     57974 non-null  float64\n",
            " 1   MSISDNNumber                 57974 non-null  float64\n",
            " 2   Calculated_Duration_Seconds  57974 non-null  float64\n",
            " 3   AvgRTT_DL                    57974 non-null  float64\n",
            " 4   AvgRTT_UL                    57974 non-null  float64\n",
            " 5   AvgBearerTP_DL               57974 non-null  float64\n",
            " 6   AvgBearerTP_UL               57974 non-null  float64\n",
            " 7   TCPDLRetransVol_Bytes        57974 non-null  float64\n",
            " 8   TCPULRetransVol_Bytes        57974 non-null  float64\n",
            " 9   GamingDL_Bytes               57974 non-null  float64\n",
            " 10  YoutubeUL_Bytes              57974 non-null  float64\n",
            " 11  YoutubeDL_Bytes              57974 non-null  float64\n",
            " 12  NetflixUL_Bytes              57974 non-null  float64\n",
            " 13  Total_Data                   57974 non-null  float64\n",
            " 14  Total_DL                     57974 non-null  float64\n",
            " 15  Total_UL                     57974 non-null  float64\n",
            " 16  NetflixDL_Bytes              57974 non-null  float64\n",
            " 17  OtherUL_Bytes                57974 non-null  float64\n",
            " 18  OtherDL_Bytes                57974 non-null  float64\n",
            " 19  GamingUL_Bytes               57974 non-null  float64\n",
            " 20  Total_Data.1                 57974 non-null  float64\n",
            " 21  Total_DL.1                   57974 non-null  float64\n",
            " 22  Total_UL.1                   57974 non-null  float64\n",
            "dtypes: float64(23)\n",
            "memory usage: 10.6 MB\n"
          ]
        }
      ]
    },
    {
      "cell_type": "markdown",
      "source": [
        "####Aggregate, per customer,\n",
        "●\tAverage TCP retransmission\n",
        "●\tAverage RTT\n",
        "●\tHandset type\n",
        "●\tAverage throughput\n"
      ],
      "metadata": {
        "id": "UbGyJUWvpKRQ"
      }
    },
    {
      "cell_type": "code",
      "source": [
        "# Aggregate data per customer\n",
        "df_aggregated = df.groupby('MSISDNNumber').agg({\n",
        "    'TCPDLRetransVol_Bytes': 'mean',\n",
        "    'TCPULRetransVol_Bytes': 'mean',\n",
        "    'AvgRTT_DL': 'mean',\n",
        "    'AvgRTT_UL': 'mean',\n",
        "    'AvgBearerTP_DL': 'mean',\n",
        "    'AvgBearerTP_UL': 'mean',\n",
        "    'BearerId': 'first'  # Assuming BearerId corresponds to the handset type\n",
        "}).reset_index()\n",
        "\n",
        "# Calculate the required metrics\n",
        "df_aggregated['Avg_TCP_Retransmission'] = (df_aggregated['TCPDLRetransVol_Bytes'] + df_aggregated['TCPULRetransVol_Bytes']) / 2\n",
        "df_aggregated['Avg_RTT'] = (df_aggregated['AvgRTT_DL'] + df_aggregated['AvgRTT_UL']) / 2\n",
        "df_aggregated['Avg_Throughput'] = (df_aggregated['AvgBearerTP_DL'] + df_aggregated['AvgBearerTP_UL']) / 2\n",
        "\n",
        "# Select and display the relevant columns\n",
        "df_result = df_aggregated[['MSISDNNumber', 'BearerId', 'Avg_TCP_Retransmission', 'Avg_RTT', 'Avg_Throughput']]\n",
        "print(df_result.head())"
      ],
      "metadata": {
        "colab": {
          "base_uri": "https://localhost:8080/"
        },
        "id": "vSKex9gWpGTp",
        "outputId": "a8cbdec1-7564-47aa-a851-3abb225d1095"
      },
      "execution_count": 35,
      "outputs": [
        {
          "output_type": "stream",
          "name": "stdout",
          "text": [
            "   MSISDNNumber      BearerId  Avg_TCP_Retransmission  Avg_RTT  Avg_Throughput\n",
            "0  3.360100e+10  1.311450e+19               294839.75     23.0            38.0\n",
            "1  3.360100e+10  7.349880e+18               294839.75     15.5            49.5\n",
            "2  3.360100e+10  7.349880e+18               294839.75     25.0            48.5\n",
            "3  3.360101e+10  7.349880e+18               294839.75     14.0            31.5\n",
            "4  3.360101e+10  7.349880e+18               294839.75     25.0            60.5\n"
          ]
        }
      ]
    }
  ]
}